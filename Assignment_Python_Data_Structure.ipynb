{
  "nbformat": 4,
  "nbformat_minor": 0,
  "metadata": {
    "colab": {
      "provenance": []
    },
    "kernelspec": {
      "name": "python3",
      "display_name": "Python 3"
    },
    "language_info": {
      "name": "python"
    }
  },
  "cells": [
    {
      "cell_type": "code",
      "execution_count": null,
      "metadata": {
        "id": "FD6N8B4ibKwb"
      },
      "outputs": [],
      "source": []
    },
    {
      "cell_type": "markdown",
      "source": [
        "##Assignment : Python - Data Structure"
      ],
      "metadata": {
        "id": "xAMDu42tbX46"
      }
    },
    {
      "cell_type": "markdown",
      "source": [
        "1. What are data structures, and why are they important?\n",
        "\n",
        "  - Data structures are methods of organizing and storing data to perform operations efficiently. They are essential because they optimize data management, improve algorithm performance, and solve computational problems effectively.\n",
        "\n",
        "2. Explain the difference between mutable and immutable data types with examples.\n",
        "\n",
        "  - Mutable: Can be changed after creation (e.g., list, dict, set).\n",
        "  - Immutable: Cannot be changed after creation (e.g., tuple, str).\n",
        "\n",
        "3. What are the main differences between lists and tuples in Python?\n",
        "\n",
        "  - Lists are mutable; tuples are immutable.\n",
        "  - Lists have higher memory overhead than tuples.\n",
        "  - Lists are used when frequent updates are needed; tuples are preferred for fixed data.\n",
        "\n",
        "4. Describe how dictionaries store data.\n",
        "\n",
        "  - Dictionaries store data as key-value pairs. Keys are hashed and used for indexing, allowing fast lookups.\n",
        "\n",
        "5. Why might you use a set instead of a list in Python?\n",
        "\n",
        "  - Sets eliminate duplicate values automatically.\n",
        "  - Sets offer faster membership testing (in operator) due to hashing.\n",
        "\n",
        "6. What is a string in Python, and how is it different from a list?\n",
        "\n",
        "  - Strings are immutable sequences of characters.\n",
        "  - Lists are mutable and can store mixed data types.\n",
        "\n",
        "7. How do tuples ensure data integrity in Python?\n",
        "\n",
        "  - By being immutable, tuples prevent accidental modifications, ensuring the data remains consistent throughout its lifecycle.\n",
        "\n",
        "8. What is a hash table, and how does it relate to dictionaries in Python?\n",
        "\n",
        "  - A hash table is a data structure that maps keys to values using a hash function. Python's dictionaries use hash tables internally to enable fast lookups.\n",
        "\n",
        "9. Can lists contain different data types in Python?\n",
        "\n",
        "  - Yes, Python lists can contain elements of varying data types.\n",
        "\n",
        "10. Explain why strings are immutable in Python.\n",
        "\n",
        "  - For performance and security. Immutability allows strings to be safely shared across multiple processes and optimizes memory usage.\n",
        "\n",
        "11. What advantages do dictionaries offer over lists for certain tasks?\n",
        "\n",
        "  - Fast lookups using keys.\n",
        "  - Data is stored in key-value pairs, offering better organization for related data.\n",
        "\n",
        "12. Describe a scenario where using a tuple would be preferable over a list.\n",
        "\n",
        "  - Tuples are ideal when the data should not change, such as coordinates in a 2D plane:\n",
        "  point = (4, 5)\n",
        "\n",
        "13. How do sets handle duplicate values in Python?\n",
        "\n",
        "  - Sets automatically remove duplicates.\n",
        "  - Example:\n",
        "  my_set = {1, 2, 2, 3}\n",
        "  print(my_set)  \n",
        "  \n",
        "  # Output: {1, 2, 3}\n",
        "\n",
        "\n",
        "14. How does the “in” keyword work differently for lists and dictionaries?\n",
        "\n",
        "  - In lists, in checks for the presence of a value.\n",
        "  - In dictionaries, in checks for the presence of a key.\n",
        "\n",
        "15. Can you modify the elements of a tuple? Explain why or why not.\n",
        "\n",
        "  - No, tuples are immutable. Once created, their contents cannot be changed.\n",
        "\n",
        "16. What is a nested dictionary, and give an example of its use case?\n",
        "\n",
        "  - A dictionary inside another dictionary.\n",
        "  - Example:\n",
        "  student_data = {\"Alice\": {\"age\": 25, \"grade\": \"A\"}}\n",
        "\n",
        "\n",
        "17. Describe the time complexity of accessing elements in a dictionary.\n",
        "\n",
        "  - The average time complexity is O(1) for lookups, thanks to hashing.\n",
        "\n",
        "18. In what situations are lists preferred over dictionaries?\n",
        "\n",
        "  - When the data is ordered or when you need to maintain duplicates.\n",
        "\n",
        "19. Why are dictionaries considered unordered, and how does that affect data retrieval?\n",
        "\n",
        "  - Dictionaries are based on hash tables, so order is not preserved. Retrieval is efficient (O(1)) but not sequential.\n",
        "\n",
        "20. Explain the difference between a list and a dictionary in terms of data retrieval.\n",
        "\n",
        "  - Lists use index-based retrieval, requiring O(n) for searching specific values.\n",
        "  - Dictionaries use key-based retrieval, offering O(1) efficiency."
      ],
      "metadata": {
        "id": "F-OGvPwXbwzZ"
      }
    },
    {
      "cell_type": "code",
      "source": [
        "# 1. Write a code to create a string with your name and print it?\n",
        "\n",
        "my_name = \"Manish\"\n",
        "print(\"My name is\", my_name)"
      ],
      "metadata": {
        "colab": {
          "base_uri": "https://localhost:8080/"
        },
        "id": "o1xgiT2kfV4y",
        "outputId": "da23386d-59de-4251-bcb0-c67c718f64da"
      },
      "execution_count": 2,
      "outputs": [
        {
          "output_type": "stream",
          "name": "stdout",
          "text": [
            "My name is Manish\n"
          ]
        }
      ]
    },
    {
      "cell_type": "code",
      "source": [
        "# 2. Write a code to find the length of the string \"Hello World\".\n",
        "\n",
        "a = \"Hello World\"\n",
        "len(a)"
      ],
      "metadata": {
        "colab": {
          "base_uri": "https://localhost:8080/"
        },
        "id": "yCSzjA-QgT95",
        "outputId": "4dc05139-8a54-4c0d-d4fe-9ede75716de8"
      },
      "execution_count": 3,
      "outputs": [
        {
          "output_type": "execute_result",
          "data": {
            "text/plain": [
              "11"
            ]
          },
          "metadata": {},
          "execution_count": 3
        }
      ]
    },
    {
      "cell_type": "code",
      "source": [
        "# 3. Write a code to slice the first 3 characters from the string \"Python Programming\".\n",
        "\n",
        "b = \"Python Programming\"\n",
        "slice = b[:3]\n",
        "print(slice)"
      ],
      "metadata": {
        "colab": {
          "base_uri": "https://localhost:8080/"
        },
        "id": "gOQXVroXghAq",
        "outputId": "ded43274-11ed-4ce6-e359-9d0227b1ebe2"
      },
      "execution_count": 4,
      "outputs": [
        {
          "output_type": "stream",
          "name": "stdout",
          "text": [
            "Pyt\n"
          ]
        }
      ]
    },
    {
      "cell_type": "code",
      "source": [
        "# 4. Write a code to convert the string \"hello\" to uppercase.\n",
        "\n",
        "c = \"hello\"\n",
        "upper = c.upper()\n",
        "print(upper)"
      ],
      "metadata": {
        "colab": {
          "base_uri": "https://localhost:8080/"
        },
        "id": "4guzS77chv2x",
        "outputId": "d76510f1-89c8-466c-dd2a-ad0b5abccaaa"
      },
      "execution_count": 7,
      "outputs": [
        {
          "output_type": "stream",
          "name": "stdout",
          "text": [
            "HELLO\n"
          ]
        }
      ]
    },
    {
      "cell_type": "code",
      "source": [
        "# 5. Write a code to replace the word \"apple\" with \"orange\" in the string \"I like apple\".\n",
        "\n",
        "d = \"I like apple\"\n",
        "modified = d.replace(\"apple\",\"orange\")\n",
        "print(modified)"
      ],
      "metadata": {
        "colab": {
          "base_uri": "https://localhost:8080/"
        },
        "id": "5lU_4sxdh-ww",
        "outputId": "e0f9b5dd-0a0b-4ca3-a7bd-d000db98bf18"
      },
      "execution_count": 8,
      "outputs": [
        {
          "output_type": "stream",
          "name": "stdout",
          "text": [
            "I like orange\n"
          ]
        }
      ]
    },
    {
      "cell_type": "code",
      "source": [
        "# 6. Write a code to create a list with numbers 1 to 5 and print it.\n",
        "\n",
        "e = [1, 2, 3, 4, 5]\n",
        "print(e)"
      ],
      "metadata": {
        "colab": {
          "base_uri": "https://localhost:8080/"
        },
        "id": "kL5-XzajisuS",
        "outputId": "d39af72e-5029-45ee-8029-185f8e0dd744"
      },
      "execution_count": 9,
      "outputs": [
        {
          "output_type": "stream",
          "name": "stdout",
          "text": [
            "[1, 2, 3, 4, 5]\n"
          ]
        }
      ]
    },
    {
      "cell_type": "code",
      "source": [
        "# 7. Write a code to append the number 10 to the list [1, 2, 3, 4].\n",
        "\n",
        "f = [1, 2, 3, 4]\n",
        "f.append(10)\n",
        "print(f)"
      ],
      "metadata": {
        "colab": {
          "base_uri": "https://localhost:8080/"
        },
        "id": "HvtlXnayjENO",
        "outputId": "09a550df-8653-420e-839a-44acb7332dee"
      },
      "execution_count": 10,
      "outputs": [
        {
          "output_type": "stream",
          "name": "stdout",
          "text": [
            "[1, 2, 3, 4, 10]\n"
          ]
        }
      ]
    },
    {
      "cell_type": "code",
      "source": [
        "# 8. Write a code to remove the number 3 from the list [1, 2, 3, 4, 5].\n",
        "\n",
        "g = [1, 2, 3, 4, 5]\n",
        "g.remove(3)\n",
        "print(g)"
      ],
      "metadata": {
        "colab": {
          "base_uri": "https://localhost:8080/"
        },
        "id": "HaM8GaYpjPVv",
        "outputId": "dd886237-4866-43ff-9f3d-78a804c7750f"
      },
      "execution_count": 11,
      "outputs": [
        {
          "output_type": "stream",
          "name": "stdout",
          "text": [
            "[1, 2, 4, 5]\n"
          ]
        }
      ]
    },
    {
      "cell_type": "code",
      "source": [
        "# 9. Write a code to access the second element in the list ['a', 'b', 'c', 'd'].\n",
        "\n",
        "h = ['a', 'b', 'c', 'd']\n",
        "print(h[1])\n"
      ],
      "metadata": {
        "colab": {
          "base_uri": "https://localhost:8080/"
        },
        "id": "lgOBxCj8jd8M",
        "outputId": "aae1387f-9802-4594-cc7a-b628e1de92c0"
      },
      "execution_count": 13,
      "outputs": [
        {
          "output_type": "stream",
          "name": "stdout",
          "text": [
            "b\n"
          ]
        }
      ]
    },
    {
      "cell_type": "code",
      "source": [
        "# 10. Write a code to reverse the list [10, 20, 30, 40, 50].\n",
        "\n",
        "i = [10, 20, 30, 40, 50]\n",
        "reverse = i[::-1]\n",
        "print(reverse)\n"
      ],
      "metadata": {
        "colab": {
          "base_uri": "https://localhost:8080/"
        },
        "id": "aqAKd0HCj4Lz",
        "outputId": "b09dffe7-721e-4905-9381-aa149948e3b0"
      },
      "execution_count": 14,
      "outputs": [
        {
          "output_type": "stream",
          "name": "stdout",
          "text": [
            "[50, 40, 30, 20, 10]\n"
          ]
        }
      ]
    },
    {
      "cell_type": "code",
      "source": [
        "# 11. Write a code to create a tuple with the elements 100, 200, 300 and print it.\n",
        "\n",
        "j = (100, 200, 300)\n",
        "print(j)"
      ],
      "metadata": {
        "colab": {
          "base_uri": "https://localhost:8080/"
        },
        "id": "gqWOoNsbkXVz",
        "outputId": "5c3ed61e-95d0-4e53-b692-a0b8aecd8f60"
      },
      "execution_count": 16,
      "outputs": [
        {
          "output_type": "stream",
          "name": "stdout",
          "text": [
            "(100, 200, 300)\n"
          ]
        },
        {
          "output_type": "execute_result",
          "data": {
            "text/plain": [
              "tuple"
            ]
          },
          "metadata": {},
          "execution_count": 16
        }
      ]
    },
    {
      "cell_type": "code",
      "source": [
        "# 12. Write a code to access the second-to-last element of the tuple ('red', 'green', 'blue', 'yellow').\n",
        "\n",
        "k = ('red', 'green', 'blue', 'yellow')\n",
        "print(k[-2])"
      ],
      "metadata": {
        "colab": {
          "base_uri": "https://localhost:8080/"
        },
        "id": "xHiWzaD8knxx",
        "outputId": "3bbc0240-ad14-4a52-a071-4dc6cbd6bd9a"
      },
      "execution_count": 18,
      "outputs": [
        {
          "output_type": "stream",
          "name": "stdout",
          "text": [
            "blue\n"
          ]
        }
      ]
    },
    {
      "source": [
        "# 13. Write a code to find the minimum number in the tuple (10, 20, 5, 15).\n",
        "\n",
        "\n",
        "l = (10, 20, 5, 15)\n",
        "min_value = l[0]\n",
        "\n",
        "for num in l:\n",
        "    if num < min_value:\n",
        "        min_value = num\n",
        "\n",
        "print(min_value)"
      ],
      "cell_type": "code",
      "metadata": {
        "colab": {
          "base_uri": "https://localhost:8080/"
        },
        "id": "U-mO5RwwmsqL",
        "outputId": "ad05543d-1a72-46b8-ab46-ec87acee6e61"
      },
      "execution_count": 38,
      "outputs": [
        {
          "output_type": "stream",
          "name": "stdout",
          "text": [
            "5\n"
          ]
        }
      ]
    },
    {
      "cell_type": "code",
      "source": [
        "# 14. Write a code to find the index of the element \"cat\" in the tuple ('dog', 'cat', 'rabbit').\n",
        "\n",
        "m = ('dog', 'cat', 'rabbit')\n",
        "index = m.index(\"cat\")\n",
        "print(index)"
      ],
      "metadata": {
        "colab": {
          "base_uri": "https://localhost:8080/"
        },
        "id": "pC2OaVJFmZe9",
        "outputId": "c002b425-89ee-48b5-aca5-00831bf24e39"
      },
      "execution_count": 33,
      "outputs": [
        {
          "output_type": "stream",
          "name": "stdout",
          "text": [
            "1\n"
          ]
        }
      ]
    },
    {
      "cell_type": "code",
      "source": [
        "# 15. Write a code to create a tuple containing three different fruits and check if \"kiwi\" is in it.\n",
        "\n",
        "n = (\"apple\", \"banana\", \"cherry\")\n",
        "if \"kiwi\" in n:\n",
        "    print(\"kiwi is in the tuple\")\n",
        "else:\n",
        "    print(\"kiwi is not in the tuple\")"
      ],
      "metadata": {
        "colab": {
          "base_uri": "https://localhost:8080/"
        },
        "id": "KrU6DOU7nVrQ",
        "outputId": "3523ff20-f758-4808-9c95-9b495c0c105b"
      },
      "execution_count": 41,
      "outputs": [
        {
          "output_type": "stream",
          "name": "stdout",
          "text": [
            "kiwi is not in the tuple\n"
          ]
        }
      ]
    },
    {
      "cell_type": "code",
      "source": [
        "# 16. Write a code to create a set with the elements 'a', 'b', 'c' and print it.\n",
        "\n",
        "o = {'a', 'b', 'c'}\n",
        "print(o)"
      ],
      "metadata": {
        "colab": {
          "base_uri": "https://localhost:8080/"
        },
        "id": "qX57FNeyoTtG",
        "outputId": "b2d765bd-6f1d-448e-e27b-d6fb1fd9c84c"
      },
      "execution_count": 42,
      "outputs": [
        {
          "output_type": "stream",
          "name": "stdout",
          "text": [
            "{'a', 'b', 'c'}\n"
          ]
        }
      ]
    },
    {
      "cell_type": "code",
      "source": [
        "# 17. Write a code to clear all elements from the set {1, 2, 3, 4, 5}.\n",
        "\n",
        "p = {1, 2, 3, 4, 5}\n",
        "p.clear()\n",
        "print(p)"
      ],
      "metadata": {
        "colab": {
          "base_uri": "https://localhost:8080/"
        },
        "id": "tnXaY--qofK7",
        "outputId": "617e4b63-5100-4f67-db15-bc8c757b25fb"
      },
      "execution_count": 43,
      "outputs": [
        {
          "output_type": "stream",
          "name": "stdout",
          "text": [
            "set()\n"
          ]
        }
      ]
    },
    {
      "cell_type": "code",
      "source": [
        "# 18. Write a code to remove the element 4 from the set {1, 2, 3, 4}.\n",
        "\n",
        "q = {1, 2, 3, 4}\n",
        "q.remove(4)\n",
        "print(q)"
      ],
      "metadata": {
        "colab": {
          "base_uri": "https://localhost:8080/"
        },
        "id": "6fWZOJ04okk1",
        "outputId": "65602bf7-debe-4012-bab8-e3012c114cca"
      },
      "execution_count": 44,
      "outputs": [
        {
          "output_type": "stream",
          "name": "stdout",
          "text": [
            "{1, 2, 3}\n"
          ]
        }
      ]
    },
    {
      "cell_type": "code",
      "source": [
        "# 19. Write a code to find the union of two sets {1, 2, 3} and {3, 4, 5}.\n",
        "\n",
        "r = {1, 2, 3}\n",
        "s = {3, 4, 5}\n",
        "union = r.union(s)\n",
        "print(union)"
      ],
      "metadata": {
        "colab": {
          "base_uri": "https://localhost:8080/"
        },
        "id": "tIG7nIeVotsJ",
        "outputId": "9f7b9872-41bd-44ca-d722-509047a33e8a"
      },
      "execution_count": 45,
      "outputs": [
        {
          "output_type": "stream",
          "name": "stdout",
          "text": [
            "{1, 2, 3, 4, 5}\n"
          ]
        }
      ]
    },
    {
      "cell_type": "code",
      "source": [
        "# 20. Write a code to find the intersection of two sets {1, 2, 3} and {2, 3, 4}.\n",
        "\n",
        "t = {1, 2, 3}\n",
        "u = {2, 3, 4}\n",
        "intersection = t.intersection(u)\n",
        "print(intersection)"
      ],
      "metadata": {
        "colab": {
          "base_uri": "https://localhost:8080/"
        },
        "id": "V491cnlZo03V",
        "outputId": "d17c67a0-5851-40c1-ec2f-4f56e1265529"
      },
      "execution_count": 46,
      "outputs": [
        {
          "output_type": "stream",
          "name": "stdout",
          "text": [
            "{2, 3}\n"
          ]
        }
      ]
    },
    {
      "cell_type": "code",
      "source": [
        "# 21. Write a code to create a dictionary with the keys \"name\", \"age\", and \"city\", and print it.\n",
        "\n",
        "v = {\"name\": \"Manish\", \"age\": 30, \"city\": \"Bhubaneswar\"}\n",
        "print(v)"
      ],
      "metadata": {
        "colab": {
          "base_uri": "https://localhost:8080/"
        },
        "id": "sg7rbIkBo9U2",
        "outputId": "8ef39e21-65c0-4ad0-a175-1d4d5723891b"
      },
      "execution_count": 47,
      "outputs": [
        {
          "output_type": "stream",
          "name": "stdout",
          "text": [
            "{'name': 'Manish', 'age': 30, 'city': 'Bhubaneswar'}\n"
          ]
        }
      ]
    },
    {
      "cell_type": "code",
      "source": [
        "# 22. Write a code to add a new key-value pair \"country\": \"USA\" to the dictionary {'name': 'John', 'age': 25}.\n",
        "\n",
        "w = {'name': 'John', 'age': 25}\n",
        "w[\"country\"] = \"USA\"\n",
        "print(w)"
      ],
      "metadata": {
        "colab": {
          "base_uri": "https://localhost:8080/"
        },
        "id": "yiQzWiFTpM-T",
        "outputId": "ab402775-07f7-4dad-a260-31c53a54428d"
      },
      "execution_count": 49,
      "outputs": [
        {
          "output_type": "stream",
          "name": "stdout",
          "text": [
            "{'name': 'John', 'age': 25, 'country': 'USA'}\n"
          ]
        }
      ]
    },
    {
      "cell_type": "code",
      "source": [
        "# 23. Write a code to access the value associated with the key \"name\" in the dictionary {'name': 'Alice', 'age': 30}.\n",
        "\n",
        "x = {'name': 'Alice', 'age': 30}\n",
        "print(x[\"name\"])"
      ],
      "metadata": {
        "colab": {
          "base_uri": "https://localhost:8080/"
        },
        "id": "5o4uLbWDpknt",
        "outputId": "1c727931-811d-49c5-abf5-c19cd31b136e"
      },
      "execution_count": 51,
      "outputs": [
        {
          "output_type": "stream",
          "name": "stdout",
          "text": [
            "Alice\n"
          ]
        }
      ]
    },
    {
      "cell_type": "code",
      "source": [
        "# 24.  Write a code to remove the key \"age\" from the dictionary {'name': 'Bob', 'age': 22, 'city': 'New York'}.\n",
        "\n",
        "y = {'name': 'Bob', 'age': 22, 'city': 'New York'}\n",
        "del y[\"age\"]\n",
        "print(y)"
      ],
      "metadata": {
        "colab": {
          "base_uri": "https://localhost:8080/"
        },
        "id": "7REvIMF7pyzW",
        "outputId": "402ed44e-3180-4f2d-d06c-6e8f1e895ce5"
      },
      "execution_count": 52,
      "outputs": [
        {
          "output_type": "stream",
          "name": "stdout",
          "text": [
            "{'name': 'Bob', 'city': 'New York'}\n"
          ]
        }
      ]
    },
    {
      "cell_type": "code",
      "source": [
        "# 25. Write a code to check if the key \"city\" exists in the dictionary {'name': 'Alice', 'city': 'Paris'}.\n",
        "\n",
        "z = {'name': 'Alice', 'city': 'Paris'}\n",
        "if \"city\" in z:\n",
        "    print(\"City exists in the dictionary\")\n",
        "else:\n",
        "    print(\"City does not exist in the dictionary\")\n"
      ],
      "metadata": {
        "colab": {
          "base_uri": "https://localhost:8080/"
        },
        "id": "Aql5w5qIp6g9",
        "outputId": "50a76f1f-29ef-406d-f655-8489c9149fdc"
      },
      "execution_count": 54,
      "outputs": [
        {
          "output_type": "stream",
          "name": "stdout",
          "text": [
            "City exists in the dictionary\n"
          ]
        }
      ]
    },
    {
      "cell_type": "code",
      "source": [
        "# 26. Write a code to create a list, a tuple, and a dictionary, and print them all.\n",
        "\n",
        "aa = [1, 2, 3]\n",
        "bb = (4, 5, 6)\n",
        "cc = {\"name\": \"Manish\", \"age\": 30}\n",
        "\n",
        "print(\"List:\", aa)\n",
        "print(\"Tuple:\", bb)\n",
        "print(\"Dictionary:\", cc)"
      ],
      "metadata": {
        "colab": {
          "base_uri": "https://localhost:8080/"
        },
        "id": "ENtmNP3dqURd",
        "outputId": "cdbf5470-299f-451a-d97f-367b500f220f"
      },
      "execution_count": 55,
      "outputs": [
        {
          "output_type": "stream",
          "name": "stdout",
          "text": [
            "List: [1, 2, 3]\n",
            "Tuple: (4, 5, 6)\n",
            "Dictionary: {'name': 'Manish', 'age': 30}\n"
          ]
        }
      ]
    },
    {
      "cell_type": "code",
      "source": [
        "# 27. Write a code to create a list of 5 random numbers between 1 and 100, sort it in ascending order, and print the result.(replaced)\n",
        "\n",
        "import random\n",
        "\n",
        "random_numbers = [random.randint(1, 100) for _ in range(5)]\n",
        "sorted_numbers = sorted(random_numbers)\n",
        "print(\"Original list random numbers:\", random_numbers)\n",
        "print(\"Sorted list:\", sorted_numbers)\n"
      ],
      "metadata": {
        "colab": {
          "base_uri": "https://localhost:8080/"
        },
        "id": "WOVhV8eJqiga",
        "outputId": "68284ca3-506d-4159-93c9-1defb3a47dea"
      },
      "execution_count": 61,
      "outputs": [
        {
          "output_type": "stream",
          "name": "stdout",
          "text": [
            "Original list random numbers: [57, 40, 10, 100, 22]\n",
            "Sorted list: [10, 22, 40, 57, 100]\n"
          ]
        }
      ]
    },
    {
      "cell_type": "code",
      "source": [
        "# 28. Write a code to create a list with strings and print the element at the third index.\n",
        "\n",
        "dd = [\"apple\", \"banana\", \"cherry\", \"date\", \"cashew\"]\n",
        "print(dd[3])"
      ],
      "metadata": {
        "colab": {
          "base_uri": "https://localhost:8080/"
        },
        "id": "w2eMzJ3Rq8Vp",
        "outputId": "dbcde36a-d29c-45c0-f928-98913d89e921"
      },
      "execution_count": 63,
      "outputs": [
        {
          "output_type": "stream",
          "name": "stdout",
          "text": [
            "date\n"
          ]
        }
      ]
    },
    {
      "cell_type": "code",
      "source": [
        "# 29. Write a code to combine two dictionaries into one and print the result.\n",
        "\n",
        "ee = {'a': 1, 'b': 2}\n",
        "ff = {'c': 3, 'd': 4}\n",
        "combined = {**ee, **ff}\n",
        "print(combined)"
      ],
      "metadata": {
        "colab": {
          "base_uri": "https://localhost:8080/"
        },
        "id": "GexI0ALar7kM",
        "outputId": "036416ca-5707-4077-e48e-eace9ad028cd"
      },
      "execution_count": 64,
      "outputs": [
        {
          "output_type": "stream",
          "name": "stdout",
          "text": [
            "{'a': 1, 'b': 2, 'c': 3, 'd': 4}\n"
          ]
        }
      ]
    },
    {
      "cell_type": "code",
      "source": [
        "# 30. Write a code to convert a list of strings into a set.\n",
        "\n",
        "gg = [\"apple\", \"banana\", \"cherry\"]\n",
        "hh = set(gg)\n",
        "print(hh)"
      ],
      "metadata": {
        "colab": {
          "base_uri": "https://localhost:8080/"
        },
        "id": "-kzypqGmsC00",
        "outputId": "d00f1f66-87bf-466b-d0ff-bc9641f10084"
      },
      "execution_count": 65,
      "outputs": [
        {
          "output_type": "stream",
          "name": "stdout",
          "text": [
            "{'cherry', 'apple', 'banana'}\n"
          ]
        }
      ]
    },
    {
      "cell_type": "code",
      "source": [],
      "metadata": {
        "id": "ILc77Z4MsKoH"
      },
      "execution_count": null,
      "outputs": []
    }
  ]
}